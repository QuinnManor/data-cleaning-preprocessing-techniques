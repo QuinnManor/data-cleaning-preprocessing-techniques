{
 "cells": [
  {
   "cell_type": "code",
   "execution_count": 1,
   "id": "6200515e",
   "metadata": {},
   "outputs": [],
   "source": [
    "# allows you to access the src module\n",
    "import sys\n",
    "sys.path.append(\"../\")\n",
    "\n",
    "from data_helper import generate_fake_data"
   ]
  },
  {
   "cell_type": "markdown",
   "id": "bc790d93",
   "metadata": {},
   "source": [
    "# Data Cleaning & Preprocessing Techniques\n",
    "\n",
    "This project is a simple walk-through of various data cleaning and preprocessing techniques to consider before doing data analysis.\n",
    "\n",
    "### Why\n",
    "\n",
    "Raw data often contains errors, missing values, inconsistencies, and other issues that can negatively impact the quality and reliability of any downstream analyses. By cleaning up, and preprocessing data, one can ensure that the data they are working with is accurate, complete, and in a format that is appropriate for the intended analysis or modeling task. This can lead to more reliable and accurate results, as well as more efficient use of time and resources.\n",
    "\n",
    "> **Note**: Data cleaning and preprocessing is an iterative process as new issues can be uncovered during analysis or modeling.\n",
    "\n",
    "### What this IS NOT!\n",
    "\n",
    "Data cleaning and preprocessing is not a way for you to introduce your own bias. This can happen unintentionally, but the techniques used should be conducted carefully to avoid overemphasizing or underemphasizing aspects of your data.\n",
    "\n",
    "For example, if a dataset contains missing values, one common approach to address this is to impute the missing values. However, if the missing values are not random, but instead systematically related to other variables in the dataset, then the imputed values may introduce bias into the dataset.\n",
    "\n",
    "### Data Cleaning (DC)\n",
    "**Data Cleaning** involves Identifying and correcting errors and inconsistencies in the data such as:\n",
    "\n",
    "- incorrect formatting\n",
    "- missing values\n",
    "- duplicates\n",
    "- outliers\n",
    "\n",
    "The goal of data cleaning is to ensure that the data is **accurate**, **complete**, and **consistent**.\n",
    "\n",
    "### Data Preprocessing (DP)\n",
    "Data preprocessing on the otherhand, involves transforming the data into a format that is more suitable for analysis or modeling. Data preprocessing techniques may include:\n",
    "\n",
    "- transforming the data into a different representation\n",
    "- scaling or standardizing variables\n",
    "- encoding categorical variables \n",
    "- reducing the dimensionality of the data"
   ]
  },
  {
   "cell_type": "markdown",
   "id": "9e245061",
   "metadata": {},
   "source": [
    "## DC Techniques: Incorrect Formatting\n",
    "Incorrect formatting refers to data that fails to meet the expected or required format for a particular type of data. For example, if you have a dataset of dates and some of the dates are in the format \"dd/mm/yyyy\" while others are in the format \"mm/dd/yyyy,\" that would be considered incorrect formatting. Additionally, if you have a dataset of genders and some of those values resolve to \"Man\" while others \"Male\", this would also be considered incorrect formatting. There are various types of incorrect formatting. Let us go over the following:\n",
    "\n",
    "- Column Headers\n",
    "\n",
    "- Inconsistent Values\n",
    "\n",
    "- Inconsistent Types\n",
    "\n",
    "- Date Formats\n",
    "\n",
    "- Text Casing"
   ]
  },
  {
   "cell_type": "markdown",
   "id": "9c8dd87b",
   "metadata": {},
   "source": [
    "### Column Headers\n",
    "This refers to datasets with column headers that differ in standardization. Consider the following cell:"
   ]
  },
  {
   "cell_type": "code",
   "execution_count": 2,
   "id": "5d02c2a0",
   "metadata": {},
   "outputs": [
    {
     "data": {
      "text/html": [
       "<div>\n",
       "<style scoped>\n",
       "    .dataframe tbody tr th:only-of-type {\n",
       "        vertical-align: middle;\n",
       "    }\n",
       "\n",
       "    .dataframe tbody tr th {\n",
       "        vertical-align: top;\n",
       "    }\n",
       "\n",
       "    .dataframe thead th {\n",
       "        text-align: right;\n",
       "    }\n",
       "</style>\n",
       "<table border=\"1\" class=\"dataframe\">\n",
       "  <thead>\n",
       "    <tr style=\"text-align: right;\">\n",
       "      <th></th>\n",
       "      <th>ID</th>\n",
       "      <th>name</th>\n",
       "      <th>AgE</th>\n",
       "      <th>dateOfBirth</th>\n",
       "      <th>current_COUNTRY</th>\n",
       "    </tr>\n",
       "  </thead>\n",
       "  <tbody>\n",
       "    <tr>\n",
       "      <th>0</th>\n",
       "      <td>645b90bb4513d03db4809f0a</td>\n",
       "      <td>Glenn Vaughn</td>\n",
       "      <td>62</td>\n",
       "      <td>1982-11-27</td>\n",
       "      <td>Madagascar</td>\n",
       "    </tr>\n",
       "    <tr>\n",
       "      <th>1</th>\n",
       "      <td>645b90bb4513d03db4809f0b</td>\n",
       "      <td>Jocelyn Shannon</td>\n",
       "      <td>55</td>\n",
       "      <td>1977-06-05</td>\n",
       "      <td>Sao Tome and Principe</td>\n",
       "    </tr>\n",
       "  </tbody>\n",
       "</table>\n",
       "</div>"
      ],
      "text/plain": [
       "                         ID             name  AgE dateOfBirth  \\\n",
       "0  645b90bb4513d03db4809f0a     Glenn Vaughn   62  1982-11-27   \n",
       "1  645b90bb4513d03db4809f0b  Jocelyn Shannon   55  1977-06-05   \n",
       "\n",
       "         current_COUNTRY  \n",
       "0             Madagascar  \n",
       "1  Sao Tome and Principe  "
      ]
     },
     "execution_count": 2,
     "metadata": {},
     "output_type": "execute_result"
    }
   ],
   "source": [
    "df = generate_fake_data()\n",
    "df.head(2)"
   ]
  },
  {
   "cell_type": "markdown",
   "id": "4a8d9e35",
   "metadata": {},
   "source": [
    "Notice how the columns in the above dataset don't adhere to the same conventions. This isn't ideal. Let's clean this up."
   ]
  },
  {
   "cell_type": "code",
   "execution_count": 18,
   "id": "f7a5d54d",
   "metadata": {},
   "outputs": [
    {
     "data": {
      "text/html": [
       "<div>\n",
       "<style scoped>\n",
       "    .dataframe tbody tr th:only-of-type {\n",
       "        vertical-align: middle;\n",
       "    }\n",
       "\n",
       "    .dataframe tbody tr th {\n",
       "        vertical-align: top;\n",
       "    }\n",
       "\n",
       "    .dataframe thead th {\n",
       "        text-align: right;\n",
       "    }\n",
       "</style>\n",
       "<table border=\"1\" class=\"dataframe\">\n",
       "  <thead>\n",
       "    <tr style=\"text-align: right;\">\n",
       "      <th></th>\n",
       "      <th>id</th>\n",
       "      <th>name</th>\n",
       "      <th>age</th>\n",
       "      <th>date_of_birth</th>\n",
       "      <th>current_country</th>\n",
       "    </tr>\n",
       "  </thead>\n",
       "  <tbody>\n",
       "    <tr>\n",
       "      <th>0</th>\n",
       "      <td>645b90bb4513d03db4809f0a</td>\n",
       "      <td>Glenn Vaughn</td>\n",
       "      <td>62</td>\n",
       "      <td>1982-11-27</td>\n",
       "      <td>Madagascar</td>\n",
       "    </tr>\n",
       "    <tr>\n",
       "      <th>1</th>\n",
       "      <td>645b90bb4513d03db4809f0b</td>\n",
       "      <td>Jocelyn Shannon</td>\n",
       "      <td>55</td>\n",
       "      <td>1977-06-05</td>\n",
       "      <td>Sao Tome and Principe</td>\n",
       "    </tr>\n",
       "  </tbody>\n",
       "</table>\n",
       "</div>"
      ],
      "text/plain": [
       "                         id             name  age date_of_birth  \\\n",
       "0  645b90bb4513d03db4809f0a     Glenn Vaughn   62    1982-11-27   \n",
       "1  645b90bb4513d03db4809f0b  Jocelyn Shannon   55    1977-06-05   \n",
       "\n",
       "         current_country  \n",
       "0             Madagascar  \n",
       "1  Sao Tome and Principe  "
      ]
     },
     "execution_count": 18,
     "metadata": {},
     "output_type": "execute_result"
    }
   ],
   "source": [
    "df.columns = [\"id\", \"name\", \"age\", \"date_of_birth\", \"current_country\"]\n",
    "df.head(2)"
   ]
  },
  {
   "cell_type": "markdown",
   "id": "be0c7174",
   "metadata": {},
   "source": [
    "Yes! Notice how all of the columns follow the same convention. That is:\n",
    "\n",
    "- lowercase\n",
    "- snakecase\n",
    "\n",
    "This is much cleaner and adheres to python naming conventions which will make data analysis much simpler!"
   ]
  },
  {
   "cell_type": "markdown",
   "id": "c81cc41d",
   "metadata": {},
   "source": [
    "### Inconsistent Values"
   ]
  },
  {
   "cell_type": "markdown",
   "id": "e9056221",
   "metadata": {},
   "source": [
    "### Inconsistent Types"
   ]
  },
  {
   "cell_type": "markdown",
   "id": "61ae133d",
   "metadata": {},
   "source": [
    "### Date Formats"
   ]
  },
  {
   "cell_type": "markdown",
   "id": "3493ecf7",
   "metadata": {},
   "source": [
    "### Text Casing"
   ]
  },
  {
   "cell_type": "markdown",
   "id": "44382c3b",
   "metadata": {},
   "source": [
    "## DC Techniques: Missing Values\n",
    "\n",
    "### Drop Values\n",
    "\n",
    "### Impute Values\n",
    "\n",
    "#### Mean\n",
    "\n",
    "#### Median\n",
    "\n",
    "#### Mode"
   ]
  },
  {
   "cell_type": "markdown",
   "id": "63e8fdc5",
   "metadata": {},
   "source": [
    "## DC Techniques: Duplicates"
   ]
  },
  {
   "cell_type": "markdown",
   "id": "40a606fa",
   "metadata": {},
   "source": [
    "## DC Techniques: Outliers"
   ]
  },
  {
   "cell_type": "markdown",
   "id": "31d5c213",
   "metadata": {},
   "source": [
    "## DP Techniques: Transforming Representation"
   ]
  },
  {
   "cell_type": "markdown",
   "id": "c268a8f3",
   "metadata": {},
   "source": [
    "## The Remaining DP Techniques\n",
    "\n",
    "- scaling or standardizing variables\n",
    "- encoding categorical variables \n",
    "- reducing the dimensionality of the data"
   ]
  }
 ],
 "metadata": {
  "kernelspec": {
   "display_name": "Python 3 (ipykernel)",
   "language": "python",
   "name": "python3"
  },
  "language_info": {
   "codemirror_mode": {
    "name": "ipython",
    "version": 3
   },
   "file_extension": ".py",
   "mimetype": "text/x-python",
   "name": "python",
   "nbconvert_exporter": "python",
   "pygments_lexer": "ipython3",
   "version": "3.9.6"
  }
 },
 "nbformat": 4,
 "nbformat_minor": 5
}
