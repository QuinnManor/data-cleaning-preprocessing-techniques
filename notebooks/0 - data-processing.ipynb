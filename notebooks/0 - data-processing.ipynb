{
 "cells": [
  {
   "cell_type": "code",
   "execution_count": 1,
   "id": "ba600246",
   "metadata": {},
   "outputs": [],
   "source": [
    "# allows you to access the src module\n",
    "import sys\n",
    "sys.path.append(\"../\")\n",
    "\n",
    "from data_helper import *"
   ]
  },
  {
   "cell_type": "markdown",
   "id": "bc790d93",
   "metadata": {},
   "source": [
    "# Data Cleaning & Preprocessing Techniques\n",
    "\n",
    "This project is a simple walk-through of various data cleaning and preprocessing techniques to consider before doing data analysis.\n",
    "\n",
    "### Why\n",
    "\n",
    "Raw data often contains errors, missing values, inconsistencies, and other issues that can negatively impact the quality and reliability of any downstream analyses. By cleaning up, and preprocessing data, one can ensure that the data they are working with is accurate, complete, and in a format that is appropriate for the intended analysis or modeling task. This can lead to more reliable and accurate results, as well as more efficient use of time and resources.\n",
    "\n",
    "> **Note**: Data cleaning and preprocessing is an iterative process as new issues can be uncovered during analysis or modeling.\n",
    "\n",
    "### What this IS NOT!\n",
    "\n",
    "Data cleaning and preprocessing is not a way for you to introduce your own bias. This can happen unintentionally, but the techniques used should be conducted carefully to avoid overemphasizing or underemphasizing aspects of your data.\n",
    "\n",
    "For example, if a dataset contains missing values, one common approach to address this is to impute the missing values. However, if the missing values are not random, but instead systematically related to other variables in the dataset, then the imputed values may introduce bias into the dataset.\n",
    "\n",
    "### Data Cleaning (DC)\n",
    "**Data Cleaning** involves Identifying and correcting errors and inconsistencies in the data such as:\n",
    "\n",
    "- incorrect formatting\n",
    "- missing values\n",
    "- duplicates\n",
    "- outliers\n",
    "\n",
    "The goal of data cleaning is to ensure that the data is **accurate**, **complete**, and **consistent**.\n",
    "\n",
    "### Data Preprocessing (DP)\n",
    "Data preprocessing on the otherhand, involves transforming the data into a format that is more suitable for analysis or modeling. Data preprocessing techniques may include:\n",
    "\n",
    "- transforming the data into a different representation\n",
    "- scaling or standardizing variables\n",
    "- encoding categorical variables \n",
    "- reducing the dimensionality of the data"
   ]
  },
  {
   "cell_type": "markdown",
   "id": "732161c2",
   "metadata": {},
   "source": [
    "## DC Techniques: Incorrect Formatting\n",
    "Incorrect formatting refers to data that fails to meet the expected or required format for a particular type of data. For example, if you have a dataset of dates and some of the dates are in the format \"dd/mm/yyyy\" while others are in the format \"mm/dd/yyyy,\" that would be considered incorrect formatting. Additionally, if you have a dataset of genders and some of those values resolve to \"Man\" while others \"Male\", this would also be considered incorrect formatting. There are various types of incorrect formatting. Let us go over the following:\n",
    "\n",
    "- Column Headers\n",
    "\n",
    "- Inconsistent Values\n",
    "\n",
    "- Inconsistent Types\n",
    "\n",
    "- Text Casing"
   ]
  },
  {
   "cell_type": "markdown",
   "id": "831333e8",
   "metadata": {},
   "source": [
    "### Column Headers\n",
    "This refers to datasets with column headers that differ in standardization. Consider the following cell:"
   ]
  },
  {
   "cell_type": "code",
   "execution_count": 2,
   "id": "4384a5cd",
   "metadata": {},
   "outputs": [
    {
     "data": {
      "text/html": [
       "<div>\n",
       "<style scoped>\n",
       "    .dataframe tbody tr th:only-of-type {\n",
       "        vertical-align: middle;\n",
       "    }\n",
       "\n",
       "    .dataframe tbody tr th {\n",
       "        vertical-align: top;\n",
       "    }\n",
       "\n",
       "    .dataframe thead th {\n",
       "        text-align: right;\n",
       "    }\n",
       "</style>\n",
       "<table border=\"1\" class=\"dataframe\">\n",
       "  <thead>\n",
       "    <tr style=\"text-align: right;\">\n",
       "      <th></th>\n",
       "      <th>ID</th>\n",
       "      <th>name</th>\n",
       "      <th>AgE</th>\n",
       "      <th>dateOfBirth</th>\n",
       "      <th>current_COUNTRY</th>\n",
       "    </tr>\n",
       "  </thead>\n",
       "  <tbody>\n",
       "    <tr>\n",
       "      <th>0</th>\n",
       "      <td>645b9bc3742ea75794fdb7f6</td>\n",
       "      <td>Cassandra Spencer</td>\n",
       "      <td>38</td>\n",
       "      <td>1964-02-04</td>\n",
       "      <td>Israel</td>\n",
       "    </tr>\n",
       "    <tr>\n",
       "      <th>1</th>\n",
       "      <td>645b9bc3742ea75794fdb7f7</td>\n",
       "      <td>Amanda Fuller</td>\n",
       "      <td>29</td>\n",
       "      <td>1963-10-27</td>\n",
       "      <td>Tonga</td>\n",
       "    </tr>\n",
       "  </tbody>\n",
       "</table>\n",
       "</div>"
      ],
      "text/plain": [
       "                         ID               name  AgE dateOfBirth  \\\n",
       "0  645b9bc3742ea75794fdb7f6  Cassandra Spencer   38  1964-02-04   \n",
       "1  645b9bc3742ea75794fdb7f7      Amanda Fuller   29  1963-10-27   \n",
       "\n",
       "  current_COUNTRY  \n",
       "0          Israel  \n",
       "1           Tonga  "
      ]
     },
     "execution_count": 2,
     "metadata": {},
     "output_type": "execute_result"
    }
   ],
   "source": [
    "users = generate_users()\n",
    "users.head(2)"
   ]
  },
  {
   "cell_type": "markdown",
   "id": "814cd4c9",
   "metadata": {},
   "source": [
    "Notice how the columns in the above dataset don't adhere to the same conventions. This isn't ideal. Let's clean this up."
   ]
  },
  {
   "cell_type": "code",
   "execution_count": 3,
   "id": "695940fb",
   "metadata": {},
   "outputs": [
    {
     "data": {
      "text/html": [
       "<div>\n",
       "<style scoped>\n",
       "    .dataframe tbody tr th:only-of-type {\n",
       "        vertical-align: middle;\n",
       "    }\n",
       "\n",
       "    .dataframe tbody tr th {\n",
       "        vertical-align: top;\n",
       "    }\n",
       "\n",
       "    .dataframe thead th {\n",
       "        text-align: right;\n",
       "    }\n",
       "</style>\n",
       "<table border=\"1\" class=\"dataframe\">\n",
       "  <thead>\n",
       "    <tr style=\"text-align: right;\">\n",
       "      <th></th>\n",
       "      <th>id</th>\n",
       "      <th>name</th>\n",
       "      <th>age</th>\n",
       "      <th>date_of_birth</th>\n",
       "      <th>current_country</th>\n",
       "    </tr>\n",
       "  </thead>\n",
       "  <tbody>\n",
       "    <tr>\n",
       "      <th>0</th>\n",
       "      <td>645b9bc3742ea75794fdb7f6</td>\n",
       "      <td>Cassandra Spencer</td>\n",
       "      <td>38</td>\n",
       "      <td>1964-02-04</td>\n",
       "      <td>Israel</td>\n",
       "    </tr>\n",
       "    <tr>\n",
       "      <th>1</th>\n",
       "      <td>645b9bc3742ea75794fdb7f7</td>\n",
       "      <td>Amanda Fuller</td>\n",
       "      <td>29</td>\n",
       "      <td>1963-10-27</td>\n",
       "      <td>Tonga</td>\n",
       "    </tr>\n",
       "  </tbody>\n",
       "</table>\n",
       "</div>"
      ],
      "text/plain": [
       "                         id               name  age date_of_birth  \\\n",
       "0  645b9bc3742ea75794fdb7f6  Cassandra Spencer   38    1964-02-04   \n",
       "1  645b9bc3742ea75794fdb7f7      Amanda Fuller   29    1963-10-27   \n",
       "\n",
       "  current_country  \n",
       "0          Israel  \n",
       "1           Tonga  "
      ]
     },
     "execution_count": 3,
     "metadata": {},
     "output_type": "execute_result"
    }
   ],
   "source": [
    "users.columns = [\"id\", \"name\", \"age\", \"date_of_birth\", \"current_country\"]\n",
    "users.head(2)"
   ]
  },
  {
   "cell_type": "markdown",
   "id": "9c301d31",
   "metadata": {},
   "source": [
    "Yes! Notice how all of the columns follow the same convention. That is:\n",
    "\n",
    "- lowercase\n",
    "- snakecase\n",
    "\n",
    "This is much cleaner and adheres to python naming conventions which will make data analysis much simpler!"
   ]
  },
  {
   "cell_type": "markdown",
   "id": "d94f2806",
   "metadata": {},
   "source": [
    "### Inconsistent Values\n",
    "Inconsistent values refers to a field, containing different values that are trying to represent the same thing. For example:"
   ]
  },
  {
   "cell_type": "code",
   "execution_count": 4,
   "id": "a09d79c6",
   "metadata": {},
   "outputs": [
    {
     "data": {
      "text/plain": [
       "MI          14\n",
       "Michigan    14\n",
       "Alabama     13\n",
       "AL          13\n",
       "Texas       13\n",
       "TX          13\n",
       "Ohio        10\n",
       "OH          10\n",
       "Name: state, dtype: int64"
      ]
     },
     "execution_count": 4,
     "metadata": {},
     "output_type": "execute_result"
    }
   ],
   "source": [
    "states = generate_states()\n",
    "states.state.value_counts()"
   ]
  },
  {
   "cell_type": "markdown",
   "id": "b234c1e5",
   "metadata": {},
   "source": [
    "From real world knowledge, we know that `Alabama` and `AL` are refering to the same state. This will cause confusion and added complexity when we get to conducting an analysis. Let's clean this up!"
   ]
  },
  {
   "cell_type": "code",
   "execution_count": 5,
   "id": "ccf5b23b",
   "metadata": {},
   "outputs": [
    {
     "data": {
      "text/plain": [
       "MI    28\n",
       "AL    26\n",
       "TX    26\n",
       "OH    20\n",
       "Name: state, dtype: int64"
      ]
     },
     "execution_count": 5,
     "metadata": {},
     "output_type": "execute_result"
    }
   ],
   "source": [
    "state_map = dict(zip([\"Ohio\", \"Michigan\", \"Alabama\", \"Texas\"], [\"OH\", \"MI\", \"AL\", \"TX\"]))\n",
    "state_mask = states.state.map(state_map)\n",
    "states.loc[states.state[state_mask.notna()].index, \"state\"] = state_mask\n",
    "states.state.value_counts()"
   ]
  },
  {
   "cell_type": "markdown",
   "id": "74aa3f18",
   "metadata": {},
   "source": [
    "Great! Now every state adheres to it's abbreviation. Making the data more consistent!"
   ]
  },
  {
   "cell_type": "markdown",
   "id": "cec78af2",
   "metadata": {},
   "source": [
    "### Inconsistent Types\n",
    "Inconsistent types refers to data types in a column that don't match up. For example:"
   ]
  },
  {
   "cell_type": "code",
   "execution_count": 6,
   "id": "e6d8623f",
   "metadata": {},
   "outputs": [
    {
     "data": {
      "text/html": [
       "<div>\n",
       "<style scoped>\n",
       "    .dataframe tbody tr th:only-of-type {\n",
       "        vertical-align: middle;\n",
       "    }\n",
       "\n",
       "    .dataframe tbody tr th {\n",
       "        vertical-align: top;\n",
       "    }\n",
       "\n",
       "    .dataframe thead th {\n",
       "        text-align: right;\n",
       "    }\n",
       "</style>\n",
       "<table border=\"1\" class=\"dataframe\">\n",
       "  <thead>\n",
       "    <tr style=\"text-align: right;\">\n",
       "      <th></th>\n",
       "      <th>is_true</th>\n",
       "    </tr>\n",
       "  </thead>\n",
       "  <tbody>\n",
       "    <tr>\n",
       "      <th>0</th>\n",
       "      <td>True</td>\n",
       "    </tr>\n",
       "    <tr>\n",
       "      <th>1</th>\n",
       "      <td>true</td>\n",
       "    </tr>\n",
       "    <tr>\n",
       "      <th>2</th>\n",
       "      <td>1</td>\n",
       "    </tr>\n",
       "  </tbody>\n",
       "</table>\n",
       "</div>"
      ],
      "text/plain": [
       "  is_true\n",
       "0    True\n",
       "1    true\n",
       "2       1"
      ]
     },
     "execution_count": 6,
     "metadata": {},
     "output_type": "execute_result"
    }
   ],
   "source": [
    "vals = pd.DataFrame([True, \"true\", 1], columns=[\"is_true\"])\n",
    "vals"
   ]
  },
  {
   "cell_type": "markdown",
   "id": "9c41cfd0",
   "metadata": {},
   "source": [
    "Notice the above values range from Booleans, strings, to ints. We need to make the types for this consistent. Let's get started!"
   ]
  },
  {
   "cell_type": "code",
   "execution_count": 7,
   "id": "c282df47",
   "metadata": {},
   "outputs": [
    {
     "data": {
      "text/html": [
       "<div>\n",
       "<style scoped>\n",
       "    .dataframe tbody tr th:only-of-type {\n",
       "        vertical-align: middle;\n",
       "    }\n",
       "\n",
       "    .dataframe tbody tr th {\n",
       "        vertical-align: top;\n",
       "    }\n",
       "\n",
       "    .dataframe thead th {\n",
       "        text-align: right;\n",
       "    }\n",
       "</style>\n",
       "<table border=\"1\" class=\"dataframe\">\n",
       "  <thead>\n",
       "    <tr style=\"text-align: right;\">\n",
       "      <th></th>\n",
       "      <th>is_true</th>\n",
       "    </tr>\n",
       "  </thead>\n",
       "  <tbody>\n",
       "    <tr>\n",
       "      <th>0</th>\n",
       "      <td>True</td>\n",
       "    </tr>\n",
       "    <tr>\n",
       "      <th>1</th>\n",
       "      <td>True</td>\n",
       "    </tr>\n",
       "    <tr>\n",
       "      <th>2</th>\n",
       "      <td>True</td>\n",
       "    </tr>\n",
       "  </tbody>\n",
       "</table>\n",
       "</div>"
      ],
      "text/plain": [
       "   is_true\n",
       "0     True\n",
       "1     True\n",
       "2     True"
      ]
     },
     "execution_count": 7,
     "metadata": {},
     "output_type": "execute_result"
    }
   ],
   "source": [
    "vals.is_true = vals.is_true.apply(lambda x: bool(x))\n",
    "vals"
   ]
  },
  {
   "cell_type": "markdown",
   "id": "2e87bbe1",
   "metadata": {},
   "source": [
    "Great! Now all of the values match the same type: `Boolean`!"
   ]
  },
  {
   "cell_type": "markdown",
   "id": "3493ecf7",
   "metadata": {},
   "source": [
    "### Text Casing\n",
    "Text casing can be applied to the dataframe and to a specific row. This means values vary in casing and forcing them to adhere to the same sensitivity will make analysis all the more merry!"
   ]
  },
  {
   "cell_type": "code",
   "execution_count": 8,
   "id": "1caf4443",
   "metadata": {},
   "outputs": [
    {
     "data": {
      "text/plain": [
       "gender\n",
       "WOMAN     25\n",
       "MAN       19\n",
       "woman     18\n",
       "dnd       16\n",
       "man       12\n",
       "DND       10\n",
       "dtype: int64"
      ]
     },
     "execution_count": 8,
     "metadata": {},
     "output_type": "execute_result"
    }
   ],
   "source": [
    "genders = generate_gender()\n",
    "genders.value_counts()"
   ]
  },
  {
   "cell_type": "markdown",
   "id": "929f7813",
   "metadata": {},
   "source": [
    "Take a look, we have the same value producing different stats due to the casing of them. Let's fix this!"
   ]
  },
  {
   "cell_type": "code",
   "execution_count": 12,
   "id": "37ddae65",
   "metadata": {},
   "outputs": [
    {
     "data": {
      "text/plain": [
       "gender\n",
       "woman     43\n",
       "man       31\n",
       "dnd       26\n",
       "dtype: int64"
      ]
     },
     "execution_count": 12,
     "metadata": {},
     "output_type": "execute_result"
    }
   ],
   "source": [
    "genders.gender = genders.gender.str.lower()\n",
    "genders.value_counts()"
   ]
  },
  {
   "cell_type": "markdown",
   "id": "3245ad5d",
   "metadata": {},
   "source": [
    "Now we have more accurate stats!"
   ]
  },
  {
   "cell_type": "markdown",
   "id": "d8cc16c7",
   "metadata": {},
   "source": [
    "## DC Techniques: Missing Values\n",
    "\n",
    "Missing values refer to data that is missing from specific rows or values. There are a variety of reasons for this, but nonetheless, handling them is, or can be, important! Missing value techniques include:\n",
    "\n",
    "- Drop Values\n",
    "\n",
    "- Imputing Values\n",
    "\n",
    "- Do Nothing!"
   ]
  },
  {
   "cell_type": "markdown",
   "id": "742d0c9e",
   "metadata": {},
   "source": [
    "### Drop Values"
   ]
  },
  {
   "cell_type": "markdown",
   "id": "a9aa4418",
   "metadata": {},
   "source": [
    "### Impute Values\n",
    "\n",
    "#### Mean"
   ]
  },
  {
   "cell_type": "markdown",
   "id": "44382c3b",
   "metadata": {},
   "source": [
    "#### Median\n",
    "\n",
    "#### Mode"
   ]
  },
  {
   "cell_type": "markdown",
   "id": "63e8fdc5",
   "metadata": {},
   "source": [
    "## DC Techniques: Duplicates"
   ]
  },
  {
   "cell_type": "markdown",
   "id": "40a606fa",
   "metadata": {},
   "source": [
    "## DC Techniques: Outliers"
   ]
  },
  {
   "cell_type": "markdown",
   "id": "31d5c213",
   "metadata": {},
   "source": [
    "## DP Techniques: Transforming Representation"
   ]
  },
  {
   "cell_type": "markdown",
   "id": "c268a8f3",
   "metadata": {},
   "source": [
    "## The Remaining DP Techniques\n",
    "\n",
    "- scaling or standardizing variables\n",
    "- encoding categorical variables \n",
    "- reducing the dimensionality of the data"
   ]
  }
 ],
 "metadata": {
  "kernelspec": {
   "display_name": "Python 3 (ipykernel)",
   "language": "python",
   "name": "python3"
  },
  "language_info": {
   "codemirror_mode": {
    "name": "ipython",
    "version": 3
   },
   "file_extension": ".py",
   "mimetype": "text/x-python",
   "name": "python",
   "nbconvert_exporter": "python",
   "pygments_lexer": "ipython3",
   "version": "3.9.6"
  }
 },
 "nbformat": 4,
 "nbformat_minor": 5
}
