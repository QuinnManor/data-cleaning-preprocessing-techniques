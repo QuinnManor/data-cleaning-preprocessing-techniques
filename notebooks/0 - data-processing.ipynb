{
 "cells": [
  {
   "cell_type": "markdown",
   "id": "cdd71410",
   "metadata": {},
   "source": [
    "# Data Cleaning & Preprocessing Techniques\n",
    "\n",
    "This project is a simple walk-through of various data cleaning and preprocessing techniques to consider before doing data analysis.\n",
    "\n",
    "### Why\n",
    "\n",
    "Raw data often contains errors, missing values, inconsistencies, and other issues that can negatively impact the quality and reliability of any downstream analyses. By cleaning up, and preprocessing data, one can ensure that the data they are working with is accurate, complete, and in a format that is appropriate for the intended analysis or modeling task. This can lead to more reliable and accurate results, as well as more efficient use of time and resources.\n",
    "\n",
    "> **Note**: Data cleaning and preprocessing is an iterative process as new issues can be uncovered during analysis or modeling.\n",
    "\n",
    "### What this IS NOT!\n",
    "\n",
    "Data cleaning and preprocessing is not a way for you to introduce your own bias. This can happen unintentionally, but the techniques used should be conducted carefully to avoid overemphasizing or underemphasizing aspects of your data.\n",
    "\n",
    "For example, if a dataset contains missing values, one common approach to address this is to impute the missing values. However, if the missing values are not random, but instead systematically related to other variables in the dataset, then the imputed values may introduce bias into the dataset.\n",
    "\n",
    "### Data Cleaning (DC)\n",
    "**Data Cleaning** involves Identifying and correcting errors and inconsistencies in the data such as:\n",
    "\n",
    "- incorrect formatting\n",
    "- missing values\n",
    "- outliers\n",
    "- duplicates\n",
    "\n",
    "The goal of data cleaning is to ensure that the data is **accurate**, **complete**, and **consistent**.\n",
    "\n",
    "### Data Preprocessing (DP)\n",
    "Data preprocessing on the otherhand, involves transforming the data into a format that is more suitable for analysis or modeling. Data preprocessing techniques may include:\n",
    "\n",
    "- scaling or standardizing variables\n",
    "- encoding categorical variables \n",
    "- reducing the dimensionality of the data\n",
    "- transforming the data into a different representation"
   ]
  }
 ],
 "metadata": {
  "kernelspec": {
   "display_name": "Python 3 (ipykernel)",
   "language": "python",
   "name": "python3"
  },
  "language_info": {
   "codemirror_mode": {
    "name": "ipython",
    "version": 3
   },
   "file_extension": ".py",
   "mimetype": "text/x-python",
   "name": "python",
   "nbconvert_exporter": "python",
   "pygments_lexer": "ipython3",
   "version": "3.9.9"
  }
 },
 "nbformat": 4,
 "nbformat_minor": 5
}
