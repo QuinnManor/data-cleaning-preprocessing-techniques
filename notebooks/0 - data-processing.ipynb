{
 "cells": [
  {
   "cell_type": "code",
   "execution_count": 1,
   "id": "ddd4c62e",
   "metadata": {},
   "outputs": [],
   "source": [
    "# allows you to access the src module\n",
    "import sys\n",
    "sys.path.append(\"../\")\n",
    "\n",
    "from data_helper import *"
   ]
  },
  {
   "cell_type": "markdown",
   "id": "bc790d93",
   "metadata": {},
   "source": [
    "# Data Cleaning & Preprocessing Techniques\n",
    "\n",
    "This project is a simple walk-through of various data cleaning and preprocessing techniques to consider before doing data analysis.\n",
    "\n",
    "### Why\n",
    "\n",
    "Raw data often contains errors, missing values, inconsistencies, and other issues that can negatively impact the quality and reliability of any downstream analyses. By cleaning up, and preprocessing data, one can ensure that the data they are working with is accurate, complete, and in a format that is appropriate for the intended analysis or modeling task. This can lead to more reliable and accurate results, as well as more efficient use of time and resources.\n",
    "\n",
    "> **Note**: Data cleaning and preprocessing is an iterative process as new issues can be uncovered during analysis or modeling.\n",
    "\n",
    "### What this IS NOT!\n",
    "\n",
    "Data cleaning and preprocessing is not a way for you to introduce your own bias. This can happen unintentionally, but the techniques used should be conducted carefully to avoid overemphasizing or underemphasizing aspects of your data.\n",
    "\n",
    "For example, if a dataset contains missing values, one common approach to address this is to impute the missing values. However, if the missing values are not random, but instead systematically related to other variables in the dataset, then the imputed values may introduce bias into the dataset.\n",
    "\n",
    "### Data Cleaning (DC)\n",
    "**Data Cleaning** involves Identifying and correcting errors and inconsistencies in the data such as:\n",
    "\n",
    "- incorrect formatting\n",
    "- missing values\n",
    "- duplicates\n",
    "- outliers\n",
    "\n",
    "The goal of data cleaning is to ensure that the data is **accurate**, **complete**, and **consistent**.\n",
    "\n",
    "### Data Preprocessing (DP)\n",
    "Data preprocessing on the otherhand, involves transforming the data into a format that is more suitable for analysis or modeling. Data preprocessing techniques may include:\n",
    "\n",
    "- transforming the data into a different representation\n",
    "- scaling or standardizing variables\n",
    "- encoding categorical variables \n",
    "- reducing the dimensionality of the data"
   ]
  },
  {
   "cell_type": "markdown",
   "id": "0dca6a44",
   "metadata": {},
   "source": [
    "## DC Techniques: Incorrect Formatting\n",
    "Incorrect formatting refers to data that fails to meet the expected or required format for a particular type of data. For example, if you have a dataset of dates and some of the dates are in the format \"dd/mm/yyyy\" while others are in the format \"mm/dd/yyyy,\" that would be considered incorrect formatting. Additionally, if you have a dataset of genders and some of those values resolve to \"Man\" while others \"Male\", this would also be considered incorrect formatting. There are various types of incorrect formatting. Let us go over the following:\n",
    "\n",
    "- Column Headers\n",
    "\n",
    "- Inconsistent Values\n",
    "\n",
    "- Inconsistent Types\n",
    "\n",
    "- Text Casing"
   ]
  },
  {
   "cell_type": "markdown",
   "id": "3ebe640b",
   "metadata": {},
   "source": [
    "### Column Headers\n",
    "This refers to datasets with column headers that differ in standardization. Consider the following cell:"
   ]
  },
  {
   "cell_type": "code",
   "execution_count": 2,
   "id": "9a8157a3",
   "metadata": {},
   "outputs": [
    {
     "data": {
      "text/html": [
       "<div>\n",
       "<style scoped>\n",
       "    .dataframe tbody tr th:only-of-type {\n",
       "        vertical-align: middle;\n",
       "    }\n",
       "\n",
       "    .dataframe tbody tr th {\n",
       "        vertical-align: top;\n",
       "    }\n",
       "\n",
       "    .dataframe thead th {\n",
       "        text-align: right;\n",
       "    }\n",
       "</style>\n",
       "<table border=\"1\" class=\"dataframe\">\n",
       "  <thead>\n",
       "    <tr style=\"text-align: right;\">\n",
       "      <th></th>\n",
       "      <th>ID</th>\n",
       "      <th>name</th>\n",
       "      <th>AgE</th>\n",
       "      <th>dateOfBirth</th>\n",
       "      <th>current_COUNTRY</th>\n",
       "    </tr>\n",
       "  </thead>\n",
       "  <tbody>\n",
       "    <tr>\n",
       "      <th>0</th>\n",
       "      <td>645b9f2100c479c10774ce97</td>\n",
       "      <td>Andrea Davis</td>\n",
       "      <td>41</td>\n",
       "      <td>1975-08-09</td>\n",
       "      <td>Canada</td>\n",
       "    </tr>\n",
       "    <tr>\n",
       "      <th>1</th>\n",
       "      <td>645b9f2100c479c10774ce98</td>\n",
       "      <td>Catherine Hinton</td>\n",
       "      <td>52</td>\n",
       "      <td>1979-08-22</td>\n",
       "      <td>Ethiopia</td>\n",
       "    </tr>\n",
       "  </tbody>\n",
       "</table>\n",
       "</div>"
      ],
      "text/plain": [
       "                         ID              name  AgE dateOfBirth current_COUNTRY\n",
       "0  645b9f2100c479c10774ce97      Andrea Davis   41  1975-08-09          Canada\n",
       "1  645b9f2100c479c10774ce98  Catherine Hinton   52  1979-08-22        Ethiopia"
      ]
     },
     "execution_count": 2,
     "metadata": {},
     "output_type": "execute_result"
    }
   ],
   "source": [
    "users = generate_users()\n",
    "users.head(2)"
   ]
  },
  {
   "cell_type": "markdown",
   "id": "d8e76118",
   "metadata": {},
   "source": [
    "Notice how the columns in the above dataset don't adhere to the same conventions. This isn't ideal. Let's clean this up."
   ]
  },
  {
   "cell_type": "code",
   "execution_count": 3,
   "id": "922f5ae5",
   "metadata": {},
   "outputs": [
    {
     "data": {
      "text/html": [
       "<div>\n",
       "<style scoped>\n",
       "    .dataframe tbody tr th:only-of-type {\n",
       "        vertical-align: middle;\n",
       "    }\n",
       "\n",
       "    .dataframe tbody tr th {\n",
       "        vertical-align: top;\n",
       "    }\n",
       "\n",
       "    .dataframe thead th {\n",
       "        text-align: right;\n",
       "    }\n",
       "</style>\n",
       "<table border=\"1\" class=\"dataframe\">\n",
       "  <thead>\n",
       "    <tr style=\"text-align: right;\">\n",
       "      <th></th>\n",
       "      <th>id</th>\n",
       "      <th>name</th>\n",
       "      <th>age</th>\n",
       "      <th>date_of_birth</th>\n",
       "      <th>current_country</th>\n",
       "    </tr>\n",
       "  </thead>\n",
       "  <tbody>\n",
       "    <tr>\n",
       "      <th>0</th>\n",
       "      <td>645b9f2100c479c10774ce97</td>\n",
       "      <td>Andrea Davis</td>\n",
       "      <td>41</td>\n",
       "      <td>1975-08-09</td>\n",
       "      <td>Canada</td>\n",
       "    </tr>\n",
       "    <tr>\n",
       "      <th>1</th>\n",
       "      <td>645b9f2100c479c10774ce98</td>\n",
       "      <td>Catherine Hinton</td>\n",
       "      <td>52</td>\n",
       "      <td>1979-08-22</td>\n",
       "      <td>Ethiopia</td>\n",
       "    </tr>\n",
       "  </tbody>\n",
       "</table>\n",
       "</div>"
      ],
      "text/plain": [
       "                         id              name  age date_of_birth  \\\n",
       "0  645b9f2100c479c10774ce97      Andrea Davis   41    1975-08-09   \n",
       "1  645b9f2100c479c10774ce98  Catherine Hinton   52    1979-08-22   \n",
       "\n",
       "  current_country  \n",
       "0          Canada  \n",
       "1        Ethiopia  "
      ]
     },
     "execution_count": 3,
     "metadata": {},
     "output_type": "execute_result"
    }
   ],
   "source": [
    "users.columns = [\"id\", \"name\", \"age\", \"date_of_birth\", \"current_country\"]\n",
    "users.head(2)"
   ]
  },
  {
   "cell_type": "markdown",
   "id": "d3cb2bbd",
   "metadata": {},
   "source": [
    "Yes! Notice how all of the columns follow the same convention. That is:\n",
    "\n",
    "- lowercase\n",
    "- snakecase\n",
    "\n",
    "This is much cleaner and adheres to python naming conventions which will make data analysis much simpler!"
   ]
  },
  {
   "cell_type": "markdown",
   "id": "a3bec3f5",
   "metadata": {},
   "source": [
    "### Inconsistent Values\n",
    "Inconsistent values refers to a field, containing different values that are trying to represent the same thing. For example:"
   ]
  },
  {
   "cell_type": "code",
   "execution_count": 4,
   "id": "41fa937b",
   "metadata": {},
   "outputs": [
    {
     "data": {
      "text/plain": [
       "Michigan    14\n",
       "MI          14\n",
       "AL          13\n",
       "Alabama     13\n",
       "Texas       12\n",
       "TX          12\n",
       "OH          11\n",
       "Ohio        11\n",
       "Name: state, dtype: int64"
      ]
     },
     "execution_count": 4,
     "metadata": {},
     "output_type": "execute_result"
    }
   ],
   "source": [
    "states = generate_states()\n",
    "states.state.value_counts()"
   ]
  },
  {
   "cell_type": "markdown",
   "id": "124e2971",
   "metadata": {},
   "source": [
    "From real world knowledge, we know that `Alabama` and `AL` are refering to the same state. This will cause confusion and added complexity when we get to conducting an analysis. Let's clean this up!"
   ]
  },
  {
   "cell_type": "code",
   "execution_count": 5,
   "id": "df50ce16",
   "metadata": {},
   "outputs": [
    {
     "data": {
      "text/plain": [
       "MI    28\n",
       "AL    26\n",
       "TX    24\n",
       "OH    22\n",
       "Name: state, dtype: int64"
      ]
     },
     "execution_count": 5,
     "metadata": {},
     "output_type": "execute_result"
    }
   ],
   "source": [
    "state_map = dict(zip([\"Ohio\", \"Michigan\", \"Alabama\", \"Texas\"], [\"OH\", \"MI\", \"AL\", \"TX\"]))\n",
    "state_mask = states.state.map(state_map)\n",
    "states.loc[states.state[state_mask.notna()].index, \"state\"] = state_mask\n",
    "states.state.value_counts()"
   ]
  },
  {
   "cell_type": "markdown",
   "id": "d65d531d",
   "metadata": {},
   "source": [
    "Great! Now every state adheres to it's abbreviation. Making the data more consistent!"
   ]
  },
  {
   "cell_type": "markdown",
   "id": "a5728572",
   "metadata": {},
   "source": [
    "### Inconsistent Types\n",
    "Inconsistent types refers to data types in a column that don't match up. For example:"
   ]
  },
  {
   "cell_type": "code",
   "execution_count": 6,
   "id": "0b9ab380",
   "metadata": {},
   "outputs": [
    {
     "data": {
      "text/html": [
       "<div>\n",
       "<style scoped>\n",
       "    .dataframe tbody tr th:only-of-type {\n",
       "        vertical-align: middle;\n",
       "    }\n",
       "\n",
       "    .dataframe tbody tr th {\n",
       "        vertical-align: top;\n",
       "    }\n",
       "\n",
       "    .dataframe thead th {\n",
       "        text-align: right;\n",
       "    }\n",
       "</style>\n",
       "<table border=\"1\" class=\"dataframe\">\n",
       "  <thead>\n",
       "    <tr style=\"text-align: right;\">\n",
       "      <th></th>\n",
       "      <th>is_true</th>\n",
       "    </tr>\n",
       "  </thead>\n",
       "  <tbody>\n",
       "    <tr>\n",
       "      <th>0</th>\n",
       "      <td>True</td>\n",
       "    </tr>\n",
       "    <tr>\n",
       "      <th>1</th>\n",
       "      <td>true</td>\n",
       "    </tr>\n",
       "    <tr>\n",
       "      <th>2</th>\n",
       "      <td>1</td>\n",
       "    </tr>\n",
       "  </tbody>\n",
       "</table>\n",
       "</div>"
      ],
      "text/plain": [
       "  is_true\n",
       "0    True\n",
       "1    true\n",
       "2       1"
      ]
     },
     "execution_count": 6,
     "metadata": {},
     "output_type": "execute_result"
    }
   ],
   "source": [
    "vals = pd.DataFrame([True, \"true\", 1], columns=[\"is_true\"])\n",
    "vals"
   ]
  },
  {
   "cell_type": "markdown",
   "id": "fa3c7d97",
   "metadata": {},
   "source": [
    "Notice the above values range from Booleans, strings, to ints. We need to make the types for this consistent. Let's get started!"
   ]
  },
  {
   "cell_type": "code",
   "execution_count": 7,
   "id": "b6e4a5cf",
   "metadata": {},
   "outputs": [
    {
     "data": {
      "text/html": [
       "<div>\n",
       "<style scoped>\n",
       "    .dataframe tbody tr th:only-of-type {\n",
       "        vertical-align: middle;\n",
       "    }\n",
       "\n",
       "    .dataframe tbody tr th {\n",
       "        vertical-align: top;\n",
       "    }\n",
       "\n",
       "    .dataframe thead th {\n",
       "        text-align: right;\n",
       "    }\n",
       "</style>\n",
       "<table border=\"1\" class=\"dataframe\">\n",
       "  <thead>\n",
       "    <tr style=\"text-align: right;\">\n",
       "      <th></th>\n",
       "      <th>is_true</th>\n",
       "    </tr>\n",
       "  </thead>\n",
       "  <tbody>\n",
       "    <tr>\n",
       "      <th>0</th>\n",
       "      <td>True</td>\n",
       "    </tr>\n",
       "    <tr>\n",
       "      <th>1</th>\n",
       "      <td>True</td>\n",
       "    </tr>\n",
       "    <tr>\n",
       "      <th>2</th>\n",
       "      <td>True</td>\n",
       "    </tr>\n",
       "  </tbody>\n",
       "</table>\n",
       "</div>"
      ],
      "text/plain": [
       "   is_true\n",
       "0     True\n",
       "1     True\n",
       "2     True"
      ]
     },
     "execution_count": 7,
     "metadata": {},
     "output_type": "execute_result"
    }
   ],
   "source": [
    "vals.is_true = vals.is_true.apply(lambda x: bool(x))\n",
    "vals"
   ]
  },
  {
   "cell_type": "markdown",
   "id": "c829ce82",
   "metadata": {},
   "source": [
    "Great! Now all of the values match the same type: `Boolean`!"
   ]
  },
  {
   "cell_type": "markdown",
   "id": "3493ecf7",
   "metadata": {},
   "source": [
    "### Text Casing\n",
    "Text casing can be applied to the dataframe and to a specific row. This means values vary in casing and forcing them to adhere to the same sensitivity will make analysis all the more merry!"
   ]
  },
  {
   "cell_type": "code",
   "execution_count": 8,
   "id": "2116e3a1",
   "metadata": {},
   "outputs": [
    {
     "data": {
      "text/plain": [
       "gender\n",
       "DND       19\n",
       "MAN       18\n",
       "WOMAN     17\n",
       "dnd       16\n",
       "man       16\n",
       "woman     14\n",
       "dtype: int64"
      ]
     },
     "execution_count": 8,
     "metadata": {},
     "output_type": "execute_result"
    }
   ],
   "source": [
    "genders = generate_gender()\n",
    "genders.value_counts()"
   ]
  },
  {
   "cell_type": "markdown",
   "id": "5ce3cdb9",
   "metadata": {},
   "source": [
    "Take a look, we have the same value producing different stats due to the casing of them. Let's fix this!"
   ]
  },
  {
   "cell_type": "code",
   "execution_count": 9,
   "id": "da8a51a2",
   "metadata": {},
   "outputs": [
    {
     "data": {
      "text/plain": [
       "gender\n",
       "dnd       35\n",
       "man       34\n",
       "woman     31\n",
       "dtype: int64"
      ]
     },
     "execution_count": 9,
     "metadata": {},
     "output_type": "execute_result"
    }
   ],
   "source": [
    "genders.gender = genders.gender.str.lower()\n",
    "genders.value_counts()"
   ]
  },
  {
   "cell_type": "markdown",
   "id": "76d4396d",
   "metadata": {},
   "source": [
    "Now we have more accurate stats!"
   ]
  },
  {
   "cell_type": "markdown",
   "id": "d4f801e0",
   "metadata": {},
   "source": [
    "## DC Techniques: Missing Values\n",
    "\n",
    "Missing values refer to data that is missing from specific rows or values. There are a variety of reasons for this, but nonetheless, handling them is, or can be, important! Missing value techniques include:\n",
    "\n",
    "- Drop Values\n",
    "\n",
    "- Imputing Values\n",
    "\n",
    "- Do Nothing!"
   ]
  },
  {
   "cell_type": "markdown",
   "id": "431b72ce",
   "metadata": {},
   "source": [
    "### Drop Values\n",
    "The simplest route to take when figuring out how to handle missing values is to drop them. Drop anything in our data that isn't producing value or analytical insights. Let us explore!"
   ]
  },
  {
   "cell_type": "code",
   "execution_count": 13,
   "id": "526f4f84",
   "metadata": {},
   "outputs": [
    {
     "name": "stdout",
     "output_type": "stream",
     "text": [
      "<class 'pandas.core.frame.DataFrame'>\n",
      "RangeIndex: 25 entries, 0 to 24\n",
      "Data columns (total 4 columns):\n",
      " #   Column           Non-Null Count  Dtype  \n",
      "---  ------           --------------  -----  \n",
      " 0   ID               21 non-null     float64\n",
      " 1   name             16 non-null     object \n",
      " 2   date_of_birth    20 non-null     object \n",
      " 3   current_country  17 non-null     object \n",
      "dtypes: float64(1), object(3)\n",
      "memory usage: 928.0+ bytes\n"
     ]
    },
    {
     "data": {
      "text/plain": [
       "None"
      ]
     },
     "metadata": {},
     "output_type": "display_data"
    },
    {
     "data": {
      "text/html": [
       "<div>\n",
       "<style scoped>\n",
       "    .dataframe tbody tr th:only-of-type {\n",
       "        vertical-align: middle;\n",
       "    }\n",
       "\n",
       "    .dataframe tbody tr th {\n",
       "        vertical-align: top;\n",
       "    }\n",
       "\n",
       "    .dataframe thead th {\n",
       "        text-align: right;\n",
       "    }\n",
       "</style>\n",
       "<table border=\"1\" class=\"dataframe\">\n",
       "  <thead>\n",
       "    <tr style=\"text-align: right;\">\n",
       "      <th></th>\n",
       "      <th>ID</th>\n",
       "      <th>name</th>\n",
       "      <th>date_of_birth</th>\n",
       "      <th>current_country</th>\n",
       "    </tr>\n",
       "  </thead>\n",
       "  <tbody>\n",
       "    <tr>\n",
       "      <th>0</th>\n",
       "      <td>93.0</td>\n",
       "      <td>None</td>\n",
       "      <td>2005-04-18</td>\n",
       "      <td>Canada</td>\n",
       "    </tr>\n",
       "    <tr>\n",
       "      <th>1</th>\n",
       "      <td>77.0</td>\n",
       "      <td>nmkjn</td>\n",
       "      <td>1954-10-18</td>\n",
       "      <td>Mexico</td>\n",
       "    </tr>\n",
       "    <tr>\n",
       "      <th>2</th>\n",
       "      <td>NaN</td>\n",
       "      <td>srqwc</td>\n",
       "      <td>2006-11-20</td>\n",
       "      <td>USA</td>\n",
       "    </tr>\n",
       "    <tr>\n",
       "      <th>3</th>\n",
       "      <td>100.0</td>\n",
       "      <td>None</td>\n",
       "      <td>1959-03-11</td>\n",
       "      <td>None</td>\n",
       "    </tr>\n",
       "    <tr>\n",
       "      <th>4</th>\n",
       "      <td>48.0</td>\n",
       "      <td>yfxsr</td>\n",
       "      <td>1959-01-08</td>\n",
       "      <td>Canada</td>\n",
       "    </tr>\n",
       "  </tbody>\n",
       "</table>\n",
       "</div>"
      ],
      "text/plain": [
       "      ID   name date_of_birth current_country\n",
       "0   93.0   None    2005-04-18          Canada\n",
       "1   77.0  nmkjn    1954-10-18          Mexico\n",
       "2    NaN  srqwc    2006-11-20             USA\n",
       "3  100.0   None    1959-03-11            None\n",
       "4   48.0  yfxsr    1959-01-08          Canada"
      ]
     },
     "metadata": {},
     "output_type": "display_data"
    }
   ],
   "source": [
    "users_missing = generate_users_missing()\n",
    "display(users_missing.info(show_counts=True))\n",
    "display(users_missing.head(5))"
   ]
  },
  {
   "cell_type": "markdown",
   "id": "55c8cd95",
   "metadata": {},
   "source": [
    "Say we want to calculate the age of each user, but from the above, we notice that there certain users didn't enter their birthday. Let's go ahead and drop them so we can execute our calculation only on users who've entered their birthday."
   ]
  },
  {
   "cell_type": "code",
   "execution_count": 14,
   "id": "aa7054d9",
   "metadata": {},
   "outputs": [
    {
     "name": "stdout",
     "output_type": "stream",
     "text": [
      "<class 'pandas.core.frame.DataFrame'>\n",
      "RangeIndex: 20 entries, 0 to 19\n",
      "Data columns (total 4 columns):\n",
      " #   Column           Non-Null Count  Dtype  \n",
      "---  ------           --------------  -----  \n",
      " 0   ID               16 non-null     float64\n",
      " 1   name             14 non-null     object \n",
      " 2   date_of_birth    20 non-null     object \n",
      " 3   current_country  16 non-null     object \n",
      "dtypes: float64(1), object(3)\n",
      "memory usage: 768.0+ bytes\n"
     ]
    },
    {
     "data": {
      "text/plain": [
       "None"
      ]
     },
     "metadata": {},
     "output_type": "display_data"
    }
   ],
   "source": [
    "users_missing_clean = users_missing.dropna(subset=[\"date_of_birth\"]).reset_index(drop=True)\n",
    "display(users_missing_clean.info(show_counts=True))"
   ]
  },
  {
   "cell_type": "markdown",
   "id": "c894c153",
   "metadata": {},
   "source": [
    "Great! Notice how there are now the same number of `Non-Null Count` users with `date_of_birth` as there are `entries`. This means we've successfully dropped users without a `date_of_birth`!"
   ]
  },
  {
   "cell_type": "markdown",
   "id": "e79c1ec7",
   "metadata": {},
   "source": [
    "### Impute Values\n",
    "Another way to handle missing values is to impute them. This means we estimate what the missing value could be. Imputing is great when you need data to run your analysis or when you have to estimate something.\n",
    "\n",
    "> **Note**: The imputation methods shown can be very effective, but also very elementary. There are other, more advanced statistical methods to impute data such as: regression imputation, bayesian imputation, and more.\n",
    "\n",
    "#### Mean"
   ]
  },
  {
   "cell_type": "markdown",
   "id": "96aa61ce",
   "metadata": {},
   "source": [
    "#### Median"
   ]
  },
  {
   "cell_type": "markdown",
   "id": "44382c3b",
   "metadata": {},
   "source": [
    "#### Mode"
   ]
  },
  {
   "cell_type": "markdown",
   "id": "63e8fdc5",
   "metadata": {},
   "source": [
    "## DC Techniques: Duplicates"
   ]
  },
  {
   "cell_type": "markdown",
   "id": "40a606fa",
   "metadata": {},
   "source": [
    "## DC Techniques: Outliers"
   ]
  },
  {
   "cell_type": "markdown",
   "id": "31d5c213",
   "metadata": {},
   "source": [
    "## DP Techniques: Transforming Representation"
   ]
  },
  {
   "cell_type": "markdown",
   "id": "c268a8f3",
   "metadata": {},
   "source": [
    "## The Remaining DP Techniques\n",
    "\n",
    "- scaling or standardizing variables\n",
    "- encoding categorical variables \n",
    "- reducing the dimensionality of the data"
   ]
  }
 ],
 "metadata": {
  "kernelspec": {
   "display_name": "Python 3 (ipykernel)",
   "language": "python",
   "name": "python3"
  },
  "language_info": {
   "codemirror_mode": {
    "name": "ipython",
    "version": 3
   },
   "file_extension": ".py",
   "mimetype": "text/x-python",
   "name": "python",
   "nbconvert_exporter": "python",
   "pygments_lexer": "ipython3",
   "version": "3.9.6"
  }
 },
 "nbformat": 4,
 "nbformat_minor": 5
}
