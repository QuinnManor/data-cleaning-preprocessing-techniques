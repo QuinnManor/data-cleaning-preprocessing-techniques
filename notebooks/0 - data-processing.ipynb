{
 "cells": [
  {
   "cell_type": "code",
   "execution_count": 1,
   "id": "ea6cd321",
   "metadata": {},
   "outputs": [],
   "source": [
    "# allows you to access the src module\n",
    "import sys\n",
    "sys.path.append(\"../\")\n",
    "\n",
    "from data_helper import *"
   ]
  },
  {
   "cell_type": "markdown",
   "id": "bc790d93",
   "metadata": {},
   "source": [
    "# Data Cleaning & Preprocessing Techniques\n",
    "\n",
    "This project is a simple walk-through of various data cleaning and preprocessing techniques to consider before doing data analysis.\n",
    "\n",
    "### Why\n",
    "\n",
    "Raw data often contains errors, missing values, inconsistencies, and other issues that can negatively impact the quality and reliability of any downstream analyses. By cleaning up, and preprocessing data, one can ensure that the data they are working with is accurate, complete, and in a format that is appropriate for the intended analysis or modeling task. This can lead to more reliable and accurate results, as well as more efficient use of time and resources.\n",
    "\n",
    "> **Note**: Data cleaning and preprocessing is an iterative process as new issues can be uncovered during analysis or modeling.\n",
    "\n",
    "### What this IS NOT!\n",
    "\n",
    "Data cleaning and preprocessing is not a way for you to introduce your own bias. This can happen unintentionally, but the techniques used should be conducted carefully to avoid overemphasizing or underemphasizing aspects of your data.\n",
    "\n",
    "For example, if a dataset contains missing values, one common approach to address this is to impute the missing values. However, if the missing values are not random, but instead systematically related to other variables in the dataset, then the imputed values may introduce bias into the dataset.\n",
    "\n",
    "### Data Cleaning (DC)\n",
    "**Data Cleaning** involves Identifying and correcting errors and inconsistencies in the data such as:\n",
    "\n",
    "- incorrect formatting\n",
    "- missing values\n",
    "- duplicates\n",
    "- outliers\n",
    "\n",
    "The goal of data cleaning is to ensure that the data is **accurate**, **complete**, and **consistent**.\n",
    "\n",
    "### Data Preprocessing (DP)\n",
    "Data preprocessing on the otherhand, involves transforming the data into a format that is more suitable for analysis or modeling. Data preprocessing techniques may include:\n",
    "\n",
    "- transforming the data into a different representation\n",
    "- scaling or standardizing variables\n",
    "- encoding categorical variables \n",
    "- reducing the dimensionality of the data"
   ]
  },
  {
   "cell_type": "markdown",
   "id": "91226fc7",
   "metadata": {},
   "source": [
    "## DC Techniques: Incorrect Formatting\n",
    "Incorrect formatting refers to data that fails to meet the expected or required format for a particular type of data. For example, if you have a dataset of dates and some of the dates are in the format \"dd/mm/yyyy\" while others are in the format \"mm/dd/yyyy,\" that would be considered incorrect formatting. Additionally, if you have a dataset of genders and some of those values resolve to \"Man\" while others \"Male\", this would also be considered incorrect formatting. There are various types of incorrect formatting. Let us go over the following:\n",
    "\n",
    "- Column Headers\n",
    "\n",
    "- Inconsistent Values\n",
    "\n",
    "- Inconsistent Types\n",
    "\n",
    "- Text Casing"
   ]
  },
  {
   "cell_type": "markdown",
   "id": "6713e1ec",
   "metadata": {},
   "source": [
    "### Column Headers\n",
    "This refers to datasets with column headers that differ in standardization. Consider the following cell:"
   ]
  },
  {
   "cell_type": "code",
   "execution_count": 2,
   "id": "45445ecf",
   "metadata": {},
   "outputs": [
    {
     "data": {
      "text/html": [
       "<div>\n",
       "<style scoped>\n",
       "    .dataframe tbody tr th:only-of-type {\n",
       "        vertical-align: middle;\n",
       "    }\n",
       "\n",
       "    .dataframe tbody tr th {\n",
       "        vertical-align: top;\n",
       "    }\n",
       "\n",
       "    .dataframe thead th {\n",
       "        text-align: right;\n",
       "    }\n",
       "</style>\n",
       "<table border=\"1\" class=\"dataframe\">\n",
       "  <thead>\n",
       "    <tr style=\"text-align: right;\">\n",
       "      <th></th>\n",
       "      <th>ID</th>\n",
       "      <th>name</th>\n",
       "      <th>AgE</th>\n",
       "      <th>dateOfBirth</th>\n",
       "      <th>current_COUNTRY</th>\n",
       "    </tr>\n",
       "  </thead>\n",
       "  <tbody>\n",
       "    <tr>\n",
       "      <th>0</th>\n",
       "      <td>645ba30d2ae4594cf0e635f4</td>\n",
       "      <td>Amy Martin</td>\n",
       "      <td>55</td>\n",
       "      <td>1964-09-06</td>\n",
       "      <td>Albania</td>\n",
       "    </tr>\n",
       "    <tr>\n",
       "      <th>1</th>\n",
       "      <td>645ba30d2ae4594cf0e635f5</td>\n",
       "      <td>Amy Smith</td>\n",
       "      <td>64</td>\n",
       "      <td>1964-08-13</td>\n",
       "      <td>Kuwait</td>\n",
       "    </tr>\n",
       "  </tbody>\n",
       "</table>\n",
       "</div>"
      ],
      "text/plain": [
       "                         ID        name  AgE dateOfBirth current_COUNTRY\n",
       "0  645ba30d2ae4594cf0e635f4  Amy Martin   55  1964-09-06         Albania\n",
       "1  645ba30d2ae4594cf0e635f5   Amy Smith   64  1964-08-13          Kuwait"
      ]
     },
     "execution_count": 2,
     "metadata": {},
     "output_type": "execute_result"
    }
   ],
   "source": [
    "users = generate_users()\n",
    "users.head(2)"
   ]
  },
  {
   "cell_type": "markdown",
   "id": "3206966c",
   "metadata": {},
   "source": [
    "Notice how the columns in the above dataset don't adhere to the same conventions. This isn't ideal. Let's clean this up."
   ]
  },
  {
   "cell_type": "code",
   "execution_count": 3,
   "id": "6860fcd0",
   "metadata": {},
   "outputs": [
    {
     "data": {
      "text/html": [
       "<div>\n",
       "<style scoped>\n",
       "    .dataframe tbody tr th:only-of-type {\n",
       "        vertical-align: middle;\n",
       "    }\n",
       "\n",
       "    .dataframe tbody tr th {\n",
       "        vertical-align: top;\n",
       "    }\n",
       "\n",
       "    .dataframe thead th {\n",
       "        text-align: right;\n",
       "    }\n",
       "</style>\n",
       "<table border=\"1\" class=\"dataframe\">\n",
       "  <thead>\n",
       "    <tr style=\"text-align: right;\">\n",
       "      <th></th>\n",
       "      <th>id</th>\n",
       "      <th>name</th>\n",
       "      <th>age</th>\n",
       "      <th>date_of_birth</th>\n",
       "      <th>current_country</th>\n",
       "    </tr>\n",
       "  </thead>\n",
       "  <tbody>\n",
       "    <tr>\n",
       "      <th>0</th>\n",
       "      <td>645ba30d2ae4594cf0e635f4</td>\n",
       "      <td>Amy Martin</td>\n",
       "      <td>55</td>\n",
       "      <td>1964-09-06</td>\n",
       "      <td>Albania</td>\n",
       "    </tr>\n",
       "    <tr>\n",
       "      <th>1</th>\n",
       "      <td>645ba30d2ae4594cf0e635f5</td>\n",
       "      <td>Amy Smith</td>\n",
       "      <td>64</td>\n",
       "      <td>1964-08-13</td>\n",
       "      <td>Kuwait</td>\n",
       "    </tr>\n",
       "  </tbody>\n",
       "</table>\n",
       "</div>"
      ],
      "text/plain": [
       "                         id        name  age date_of_birth current_country\n",
       "0  645ba30d2ae4594cf0e635f4  Amy Martin   55    1964-09-06         Albania\n",
       "1  645ba30d2ae4594cf0e635f5   Amy Smith   64    1964-08-13          Kuwait"
      ]
     },
     "execution_count": 3,
     "metadata": {},
     "output_type": "execute_result"
    }
   ],
   "source": [
    "users.columns = [\"id\", \"name\", \"age\", \"date_of_birth\", \"current_country\"]\n",
    "users.head(2)"
   ]
  },
  {
   "cell_type": "markdown",
   "id": "d34963e1",
   "metadata": {},
   "source": [
    "Yes! Notice how all of the columns follow the same convention. That is:\n",
    "\n",
    "- lowercase\n",
    "- snakecase\n",
    "\n",
    "This is much cleaner and adheres to python naming conventions which will make data analysis much simpler!"
   ]
  },
  {
   "cell_type": "markdown",
   "id": "759b6064",
   "metadata": {},
   "source": [
    "### Inconsistent Values\n",
    "Inconsistent values refers to a field, containing different values that are trying to represent the same thing. For example:"
   ]
  },
  {
   "cell_type": "code",
   "execution_count": 4,
   "id": "1addce00",
   "metadata": {},
   "outputs": [
    {
     "data": {
      "text/plain": [
       "Ohio        17\n",
       "OH          17\n",
       "Texas       16\n",
       "TX          16\n",
       "AL          13\n",
       "Alabama     13\n",
       "MI           4\n",
       "Michigan     4\n",
       "Name: state, dtype: int64"
      ]
     },
     "execution_count": 4,
     "metadata": {},
     "output_type": "execute_result"
    }
   ],
   "source": [
    "states = generate_states()\n",
    "states.state.value_counts()"
   ]
  },
  {
   "cell_type": "markdown",
   "id": "fef5847b",
   "metadata": {},
   "source": [
    "From real world knowledge, we know that `Alabama` and `AL` are refering to the same state. This will cause confusion and added complexity when we get to conducting an analysis. Let's clean this up!"
   ]
  },
  {
   "cell_type": "code",
   "execution_count": 5,
   "id": "4680bb77",
   "metadata": {},
   "outputs": [
    {
     "data": {
      "text/plain": [
       "OH    34\n",
       "TX    32\n",
       "AL    26\n",
       "MI     8\n",
       "Name: state, dtype: int64"
      ]
     },
     "execution_count": 5,
     "metadata": {},
     "output_type": "execute_result"
    }
   ],
   "source": [
    "state_map = dict(zip([\"Ohio\", \"Michigan\", \"Alabama\", \"Texas\"], [\"OH\", \"MI\", \"AL\", \"TX\"]))\n",
    "state_mask = states.state.map(state_map)\n",
    "states.loc[states.state[state_mask.notna()].index, \"state\"] = state_mask\n",
    "states.state.value_counts()"
   ]
  },
  {
   "cell_type": "markdown",
   "id": "4beb8b79",
   "metadata": {},
   "source": [
    "Great! Now every state adheres to it's abbreviation. Making the data more consistent!"
   ]
  },
  {
   "cell_type": "markdown",
   "id": "1f0accd7",
   "metadata": {},
   "source": [
    "### Inconsistent Types\n",
    "Inconsistent types refers to data types in a column that don't match up. For example:"
   ]
  },
  {
   "cell_type": "code",
   "execution_count": 6,
   "id": "7bdb22c7",
   "metadata": {},
   "outputs": [
    {
     "data": {
      "text/html": [
       "<div>\n",
       "<style scoped>\n",
       "    .dataframe tbody tr th:only-of-type {\n",
       "        vertical-align: middle;\n",
       "    }\n",
       "\n",
       "    .dataframe tbody tr th {\n",
       "        vertical-align: top;\n",
       "    }\n",
       "\n",
       "    .dataframe thead th {\n",
       "        text-align: right;\n",
       "    }\n",
       "</style>\n",
       "<table border=\"1\" class=\"dataframe\">\n",
       "  <thead>\n",
       "    <tr style=\"text-align: right;\">\n",
       "      <th></th>\n",
       "      <th>is_true</th>\n",
       "    </tr>\n",
       "  </thead>\n",
       "  <tbody>\n",
       "    <tr>\n",
       "      <th>0</th>\n",
       "      <td>True</td>\n",
       "    </tr>\n",
       "    <tr>\n",
       "      <th>1</th>\n",
       "      <td>true</td>\n",
       "    </tr>\n",
       "    <tr>\n",
       "      <th>2</th>\n",
       "      <td>1</td>\n",
       "    </tr>\n",
       "  </tbody>\n",
       "</table>\n",
       "</div>"
      ],
      "text/plain": [
       "  is_true\n",
       "0    True\n",
       "1    true\n",
       "2       1"
      ]
     },
     "execution_count": 6,
     "metadata": {},
     "output_type": "execute_result"
    }
   ],
   "source": [
    "vals = pd.DataFrame([True, \"true\", 1], columns=[\"is_true\"])\n",
    "vals"
   ]
  },
  {
   "cell_type": "markdown",
   "id": "b439db8b",
   "metadata": {},
   "source": [
    "Notice the above values range from Booleans, strings, to ints. We need to make the types for this consistent. Let's get started!"
   ]
  },
  {
   "cell_type": "code",
   "execution_count": 7,
   "id": "16a73e8d",
   "metadata": {},
   "outputs": [
    {
     "data": {
      "text/html": [
       "<div>\n",
       "<style scoped>\n",
       "    .dataframe tbody tr th:only-of-type {\n",
       "        vertical-align: middle;\n",
       "    }\n",
       "\n",
       "    .dataframe tbody tr th {\n",
       "        vertical-align: top;\n",
       "    }\n",
       "\n",
       "    .dataframe thead th {\n",
       "        text-align: right;\n",
       "    }\n",
       "</style>\n",
       "<table border=\"1\" class=\"dataframe\">\n",
       "  <thead>\n",
       "    <tr style=\"text-align: right;\">\n",
       "      <th></th>\n",
       "      <th>is_true</th>\n",
       "    </tr>\n",
       "  </thead>\n",
       "  <tbody>\n",
       "    <tr>\n",
       "      <th>0</th>\n",
       "      <td>True</td>\n",
       "    </tr>\n",
       "    <tr>\n",
       "      <th>1</th>\n",
       "      <td>True</td>\n",
       "    </tr>\n",
       "    <tr>\n",
       "      <th>2</th>\n",
       "      <td>True</td>\n",
       "    </tr>\n",
       "  </tbody>\n",
       "</table>\n",
       "</div>"
      ],
      "text/plain": [
       "   is_true\n",
       "0     True\n",
       "1     True\n",
       "2     True"
      ]
     },
     "execution_count": 7,
     "metadata": {},
     "output_type": "execute_result"
    }
   ],
   "source": [
    "vals.is_true = vals.is_true.apply(lambda x: bool(x))\n",
    "vals"
   ]
  },
  {
   "cell_type": "markdown",
   "id": "b87f5b88",
   "metadata": {},
   "source": [
    "Great! Now all of the values match the same type: `Boolean`!"
   ]
  },
  {
   "cell_type": "markdown",
   "id": "3493ecf7",
   "metadata": {},
   "source": [
    "### Text Casing\n",
    "Text casing can be applied to the dataframe and to a specific row. This means values vary in casing and forcing them to adhere to the same sensitivity will make analysis all the more merry!"
   ]
  },
  {
   "cell_type": "code",
   "execution_count": 8,
   "id": "7754ad76",
   "metadata": {},
   "outputs": [
    {
     "data": {
      "text/plain": [
       "gender\n",
       "MAN       24\n",
       "man       17\n",
       "DND       16\n",
       "dnd       15\n",
       "WOMAN     14\n",
       "woman     14\n",
       "dtype: int64"
      ]
     },
     "execution_count": 8,
     "metadata": {},
     "output_type": "execute_result"
    }
   ],
   "source": [
    "genders = generate_gender()\n",
    "genders.value_counts()"
   ]
  },
  {
   "cell_type": "markdown",
   "id": "6ea18761",
   "metadata": {},
   "source": [
    "Take a look, we have the same value producing different stats due to the casing of them. Let's fix this!"
   ]
  },
  {
   "cell_type": "code",
   "execution_count": 9,
   "id": "9d1d8e31",
   "metadata": {},
   "outputs": [
    {
     "data": {
      "text/plain": [
       "gender\n",
       "man       41\n",
       "dnd       31\n",
       "woman     28\n",
       "dtype: int64"
      ]
     },
     "execution_count": 9,
     "metadata": {},
     "output_type": "execute_result"
    }
   ],
   "source": [
    "genders.gender = genders.gender.str.lower()\n",
    "genders.value_counts()"
   ]
  },
  {
   "cell_type": "markdown",
   "id": "db36c76f",
   "metadata": {},
   "source": [
    "Now we have more accurate stats!"
   ]
  },
  {
   "cell_type": "markdown",
   "id": "79221e91",
   "metadata": {},
   "source": [
    "## DC Techniques: Missing Values\n",
    "\n",
    "Missing values refer to data that is missing from specific rows or values. There are a variety of reasons for this, but nonetheless, handling them is, or can be, important! Missing value techniques include:\n",
    "\n",
    "- Drop Values\n",
    "\n",
    "- Imputing Values\n",
    "\n",
    "- Do Nothing!"
   ]
  },
  {
   "cell_type": "markdown",
   "id": "4480846b",
   "metadata": {},
   "source": [
    "### Drop Values\n",
    "The simplest route to take when figuring out how to handle missing values is to drop them. Drop anything in our data that isn't producing value or analytical insights. Let us explore!"
   ]
  },
  {
   "cell_type": "code",
   "execution_count": 10,
   "id": "487f43bb",
   "metadata": {},
   "outputs": [
    {
     "name": "stdout",
     "output_type": "stream",
     "text": [
      "<class 'pandas.core.frame.DataFrame'>\n",
      "RangeIndex: 25 entries, 0 to 24\n",
      "Data columns (total 4 columns):\n",
      " #   Column           Non-Null Count  Dtype  \n",
      "---  ------           --------------  -----  \n",
      " 0   ID               19 non-null     float64\n",
      " 1   name             21 non-null     object \n",
      " 2   date_of_birth    22 non-null     object \n",
      " 3   current_country  20 non-null     object \n",
      "dtypes: float64(1), object(3)\n",
      "memory usage: 928.0+ bytes\n"
     ]
    },
    {
     "data": {
      "text/plain": [
       "None"
      ]
     },
     "metadata": {},
     "output_type": "display_data"
    },
    {
     "data": {
      "text/html": [
       "<div>\n",
       "<style scoped>\n",
       "    .dataframe tbody tr th:only-of-type {\n",
       "        vertical-align: middle;\n",
       "    }\n",
       "\n",
       "    .dataframe tbody tr th {\n",
       "        vertical-align: top;\n",
       "    }\n",
       "\n",
       "    .dataframe thead th {\n",
       "        text-align: right;\n",
       "    }\n",
       "</style>\n",
       "<table border=\"1\" class=\"dataframe\">\n",
       "  <thead>\n",
       "    <tr style=\"text-align: right;\">\n",
       "      <th></th>\n",
       "      <th>ID</th>\n",
       "      <th>name</th>\n",
       "      <th>date_of_birth</th>\n",
       "      <th>current_country</th>\n",
       "    </tr>\n",
       "  </thead>\n",
       "  <tbody>\n",
       "    <tr>\n",
       "      <th>0</th>\n",
       "      <td>1.0</td>\n",
       "      <td>mtpty</td>\n",
       "      <td>None</td>\n",
       "      <td>Mexico</td>\n",
       "    </tr>\n",
       "    <tr>\n",
       "      <th>1</th>\n",
       "      <td>4.0</td>\n",
       "      <td>iqoqb</td>\n",
       "      <td>1980-06-03</td>\n",
       "      <td>Mexico</td>\n",
       "    </tr>\n",
       "    <tr>\n",
       "      <th>2</th>\n",
       "      <td>NaN</td>\n",
       "      <td>vjltw</td>\n",
       "      <td>1997-05-25</td>\n",
       "      <td>None</td>\n",
       "    </tr>\n",
       "    <tr>\n",
       "      <th>3</th>\n",
       "      <td>NaN</td>\n",
       "      <td>xxnox</td>\n",
       "      <td>1965-10-02</td>\n",
       "      <td>None</td>\n",
       "    </tr>\n",
       "    <tr>\n",
       "      <th>4</th>\n",
       "      <td>13.0</td>\n",
       "      <td>bdssu</td>\n",
       "      <td>2020-12-28</td>\n",
       "      <td>None</td>\n",
       "    </tr>\n",
       "  </tbody>\n",
       "</table>\n",
       "</div>"
      ],
      "text/plain": [
       "     ID   name date_of_birth current_country\n",
       "0   1.0  mtpty          None          Mexico\n",
       "1   4.0  iqoqb    1980-06-03          Mexico\n",
       "2   NaN  vjltw    1997-05-25            None\n",
       "3   NaN  xxnox    1965-10-02            None\n",
       "4  13.0  bdssu    2020-12-28            None"
      ]
     },
     "metadata": {},
     "output_type": "display_data"
    }
   ],
   "source": [
    "users_missing = generate_users_missing()\n",
    "display(users_missing.info(show_counts=True))\n",
    "display(users_missing.head(5))"
   ]
  },
  {
   "cell_type": "markdown",
   "id": "50e69a3a",
   "metadata": {},
   "source": [
    "Say we want to calculate the age of each user, but from the above, we notice that there certain users didn't enter their birthday. Let's go ahead and drop them so we can execute our calculation only on users who've entered their birthday."
   ]
  },
  {
   "cell_type": "code",
   "execution_count": 11,
   "id": "91c9ab86",
   "metadata": {},
   "outputs": [
    {
     "name": "stdout",
     "output_type": "stream",
     "text": [
      "<class 'pandas.core.frame.DataFrame'>\n",
      "RangeIndex: 22 entries, 0 to 21\n",
      "Data columns (total 4 columns):\n",
      " #   Column           Non-Null Count  Dtype  \n",
      "---  ------           --------------  -----  \n",
      " 0   ID               16 non-null     float64\n",
      " 1   name             18 non-null     object \n",
      " 2   date_of_birth    22 non-null     object \n",
      " 3   current_country  17 non-null     object \n",
      "dtypes: float64(1), object(3)\n",
      "memory usage: 832.0+ bytes\n"
     ]
    },
    {
     "data": {
      "text/plain": [
       "None"
      ]
     },
     "metadata": {},
     "output_type": "display_data"
    }
   ],
   "source": [
    "users_missing_clean = users_missing.dropna(subset=[\"date_of_birth\"]).reset_index(drop=True)\n",
    "display(users_missing_clean.info(show_counts=True))"
   ]
  },
  {
   "cell_type": "markdown",
   "id": "7ea85e67",
   "metadata": {},
   "source": [
    "Great! Notice how there are now the same number of `Non-Null Count` users with `date_of_birth` as there are `entries`. This means we've successfully dropped users without a `date_of_birth`!"
   ]
  },
  {
   "cell_type": "markdown",
   "id": "67607f47",
   "metadata": {},
   "source": [
    "### Impute Values\n",
    "Another way to handle missing values is to impute them. This means we estimate what the missing value could be. Imputing is great when you need data to run your analysis or when you have to estimate something.\n",
    "\n",
    "> **Note**: The imputation methods shown can be very effective, but also very elementary. There are other, more advanced statistical methods to impute data such as: regression imputation, bayesian imputation, and more.\n",
    "\n",
    "#### Mean\n",
    "Mean imputation takes the average of the values in that column and appends that to the missing rows. For example:"
   ]
  },
  {
   "cell_type": "code",
   "execution_count": 12,
   "id": "1eb04281",
   "metadata": {},
   "outputs": [
    {
     "name": "stdout",
     "output_type": "stream",
     "text": [
      "Missing Values:  18\n"
     ]
    },
    {
     "data": {
      "text/html": [
       "<div>\n",
       "<style scoped>\n",
       "    .dataframe tbody tr th:only-of-type {\n",
       "        vertical-align: middle;\n",
       "    }\n",
       "\n",
       "    .dataframe tbody tr th {\n",
       "        vertical-align: top;\n",
       "    }\n",
       "\n",
       "    .dataframe thead th {\n",
       "        text-align: right;\n",
       "    }\n",
       "</style>\n",
       "<table border=\"1\" class=\"dataframe\">\n",
       "  <thead>\n",
       "    <tr style=\"text-align: right;\">\n",
       "      <th></th>\n",
       "      <th>age</th>\n",
       "    </tr>\n",
       "  </thead>\n",
       "  <tbody>\n",
       "    <tr>\n",
       "      <th>0</th>\n",
       "      <td>19.0</td>\n",
       "    </tr>\n",
       "    <tr>\n",
       "      <th>1</th>\n",
       "      <td>42.0</td>\n",
       "    </tr>\n",
       "    <tr>\n",
       "      <th>2</th>\n",
       "      <td>71.0</td>\n",
       "    </tr>\n",
       "    <tr>\n",
       "      <th>3</th>\n",
       "      <td>66.0</td>\n",
       "    </tr>\n",
       "    <tr>\n",
       "      <th>4</th>\n",
       "      <td>49.0</td>\n",
       "    </tr>\n",
       "  </tbody>\n",
       "</table>\n",
       "</div>"
      ],
      "text/plain": [
       "    age\n",
       "0  19.0\n",
       "1  42.0\n",
       "2  71.0\n",
       "3  66.0\n",
       "4  49.0"
      ]
     },
     "metadata": {},
     "output_type": "display_data"
    }
   ],
   "source": [
    "age_missing = generate_age_missing(100)\n",
    "print(\"Missing Values: \", age_missing.age.isna().sum())\n",
    "display(age_missing.head())"
   ]
  },
  {
   "cell_type": "markdown",
   "id": "86c9ac61",
   "metadata": {},
   "source": [
    "See, where missing ages! Let's go ahead and do a mean imputation!"
   ]
  },
  {
   "cell_type": "code",
   "execution_count": 13,
   "id": "9c3dfd2d",
   "metadata": {},
   "outputs": [
    {
     "name": "stdout",
     "output_type": "stream",
     "text": [
      "Mean Age to Impute: 51.0\n",
      "Missing Values:  0\n"
     ]
    }
   ],
   "source": [
    "mean_age = round(age_missing.mean()).age\n",
    "print(\"Mean Age to Impute:\", mean_age)\n",
    "\n",
    "age_missing.loc[age_missing.age[age_missing.age.isna()].index, \"age\"] = mean_age\n",
    "print(\"Missing Values: \", age_missing.age.isna().sum())"
   ]
  },
  {
   "cell_type": "markdown",
   "id": "bc0cff9b",
   "metadata": {},
   "source": [
    "#### Median"
   ]
  },
  {
   "cell_type": "markdown",
   "id": "930df929",
   "metadata": {},
   "source": [
    "Median imputation refers to imputing missing values based on the middle value of the dataset that has been ordered from smallest to largest."
   ]
  },
  {
   "cell_type": "markdown",
   "id": "44382c3b",
   "metadata": {},
   "source": [
    "#### Mode\n",
    "Mode imputation refers to imputing missing values based on the value that shows up the most frequent in a given dataset."
   ]
  },
  {
   "cell_type": "markdown",
   "id": "63e8fdc5",
   "metadata": {},
   "source": [
    "## DC Techniques: Duplicates"
   ]
  },
  {
   "cell_type": "markdown",
   "id": "40a606fa",
   "metadata": {},
   "source": [
    "## DC Techniques: Outliers"
   ]
  },
  {
   "cell_type": "markdown",
   "id": "31d5c213",
   "metadata": {},
   "source": [
    "## DP Techniques: Transforming Representation"
   ]
  },
  {
   "cell_type": "markdown",
   "id": "c268a8f3",
   "metadata": {},
   "source": [
    "## The Remaining DP Techniques\n",
    "\n",
    "- scaling or standardizing variables\n",
    "- encoding categorical variables \n",
    "- reducing the dimensionality of the data"
   ]
  }
 ],
 "metadata": {
  "kernelspec": {
   "display_name": "Python 3 (ipykernel)",
   "language": "python",
   "name": "python3"
  },
  "language_info": {
   "codemirror_mode": {
    "name": "ipython",
    "version": 3
   },
   "file_extension": ".py",
   "mimetype": "text/x-python",
   "name": "python",
   "nbconvert_exporter": "python",
   "pygments_lexer": "ipython3",
   "version": "3.9.6"
  }
 },
 "nbformat": 4,
 "nbformat_minor": 5
}
